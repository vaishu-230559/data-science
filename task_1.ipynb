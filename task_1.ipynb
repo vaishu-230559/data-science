{
  "nbformat": 4,
  "nbformat_minor": 0,
  "metadata": {
    "colab": {
      "provenance": []
    },
    "kernelspec": {
      "name": "python3",
      "display_name": "Python 3"
    },
    "language_info": {
      "name": "python"
    }
  },
  "cells": [
    {
      "cell_type": "code",
      "execution_count": null,
      "metadata": {
        "colab": {
          "base_uri": "https://localhost:8080/"
        },
        "id": "WqnZECyoGNRJ",
        "outputId": "043d706e-2e84-43aa-c870-87ee70475831"
      },
      "outputs": [
        {
          "output_type": "stream",
          "name": "stdout",
          "text": [
            "Patient Name: John Doe\n",
            "Patient Age: 35\n",
            "Patient BMI: 24.5\n"
          ]
        }
      ],
      "source": [
        "\n",
        "patient_name = \"John Doe\"\n",
        "patient_age = 35\n",
        "patient_bmi = 24.5\n",
        "\n",
        "\n",
        "print(\"Patient Name:\", patient_name)\n",
        "print(\"Patient Age:\", patient_age)\n",
        "print(\"Patient BMI:\", patient_bmi)"
      ]
    },
    {
      "cell_type": "code",
      "source": [
        "\n",
        "def get_bmi_category(bmi):\n",
        "    if bmi < 18.5:\n",
        "        return \"Underweight\"\n",
        "    elif 18.5 <= bmi < 24.9:\n",
        "        return \"Normal weight\"\n",
        "    elif 25 <= bmi < 29.9:\n",
        "        return \"Overweight\"\n",
        "    else:\n",
        "        return \"Obese\"\n",
        "\n",
        "\n",
        "patient_name = \"John Doe\"\n",
        "patient_bmi = 24.5\n",
        "\n",
        "\n",
        "bmi_category = get_bmi_category(patient_bmi)\n",
        "\n",
        "\n",
        "print(f\"Patient Name: {patient_name}\")\n",
        "print(f\"BMI: {patient_bmi}\")\n",
        "print(f\"BMI Category: {bmi_category}\")"
      ],
      "metadata": {
        "colab": {
          "base_uri": "https://localhost:8080/"
        },
        "id": "TlXPtxlXN3Nw",
        "outputId": "4eda2ebf-705b-4937-d75a-3e7d6651a0b5"
      },
      "execution_count": null,
      "outputs": [
        {
          "output_type": "stream",
          "name": "stdout",
          "text": [
            "Patient Name: John Doe\n",
            "BMI: 24.5\n",
            "BMI Category: Normal weight\n"
          ]
        }
      ]
    },
    {
      "cell_type": "code",
      "source": [
        "import numpy as np\n",
        "\n",
        "heart_rates = np.array([72, 78, 80, 75, 74, 79, 77])\n",
        "\n",
        "\n",
        "average_heart_rate = np.mean(heart_rates)\n",
        "highest_heart_rate = np.max(heart_rates)\n",
        "lowest_heart_rate = np.min(heart_rates)\n",
        "\n",
        "\n",
        "print(\"Heart Rate Readings for the Week:\", heart_rates)\n",
        "print(f\"Average Heart Rate: {average_heart_rate:.2f} bpm\")\n",
        "print(f\"Highest Heart Rate: {highest_heart_rate} bpm\")\n",
        "print(f\"Lowest Heart Rate: {lowest_heart_rate} bpm\")"
      ],
      "metadata": {
        "colab": {
          "base_uri": "https://localhost:8080/"
        },
        "id": "r89uf1SIOLiq",
        "outputId": "e75d9051-bfb5-4075-b551-7c7d77d78956"
      },
      "execution_count": null,
      "outputs": [
        {
          "output_type": "stream",
          "name": "stdout",
          "text": [
            "Heart Rate Readings for the Week: [72 78 80 75 74 79 77]\n",
            "Average Heart Rate: 76.43 bpm\n",
            "Highest Heart Rate: 80 bpm\n",
            "Lowest Heart Rate: 72 bpm\n"
          ]
        }
      ]
    },
    {
      "cell_type": "code",
      "source": [
        "import pandas as pd\n",
        "\n",
        "\n",
        "data = {\n",
        "    \"Name\": [\"John Doe\", \"Alice Smith\", \"Bob Johnson\", \"Emma Brown\"],\n",
        "    \"Age\": [45, 52, 37, 60],\n",
        "    \"Cholesterol Level (mg/dL)\": [190, 220, 175, 240]\n",
        "}\n",
        "\n",
        "\n",
        "patient_df = pd.DataFrame(data)\n",
        "\n",
        "\n",
        "print(\"Patient Record DataFrame:\")\n",
        "print(patient_df)"
      ],
      "metadata": {
        "colab": {
          "base_uri": "https://localhost:8080/"
        },
        "id": "CDDruMG-OZEa",
        "outputId": "45d965b4-2f23-48c3-d8e4-cfbc349c5e8a"
      },
      "execution_count": null,
      "outputs": [
        {
          "output_type": "stream",
          "name": "stdout",
          "text": [
            "Patient Record DataFrame:\n",
            "          Name  Age  Cholesterol Level (mg/dL)\n",
            "0     John Doe   45                        190\n",
            "1  Alice Smith   52                        220\n",
            "2  Bob Johnson   37                        175\n",
            "3   Emma Brown   60                        240\n"
          ]
        }
      ]
    },
    {
      "cell_type": "code",
      "source": [
        "import pandas as pd\n",
        "\n",
        "data = {\n",
        "    \"Name\": [\"John Doe\", \"Alice Smith\", \"Bob Johnson\", \"Emma Brown\", \"David Lee\"],\n",
        "    \"Age\": [45, 52, 37, 60, 55],\n",
        "    \"Cholesterol Level (mg/dL)\": [190, 220, 175, 240, 210]\n",
        "}\n",
        "\n",
        "\n",
        "patient_df = pd.DataFrame(data)\n",
        "\n",
        "\n",
        "cholesterol_threshold = 200\n",
        "\n",
        "\n",
        "high_risk_patients = patient_df[patient_df[\"Cholesterol Level (mg/dL)\"] > cholesterol_threshold]\n",
        "\n",
        "\n",
        "print(\"High-Risk Patients (Cholesterol > 200 mg/dL):\")\n",
        "print(high_risk_patients)"
      ],
      "metadata": {
        "colab": {
          "base_uri": "https://localhost:8080/"
        },
        "id": "0NUUIP61Of-G",
        "outputId": "0cc78708-429e-42d2-9698-cf653a79ab56"
      },
      "execution_count": null,
      "outputs": [
        {
          "output_type": "stream",
          "name": "stdout",
          "text": [
            "High-Risk Patients (Cholesterol > 200 mg/dL):\n",
            "          Name  Age  Cholesterol Level (mg/dL)\n",
            "1  Alice Smith   52                        220\n",
            "3   Emma Brown   60                        240\n",
            "4    David Lee   55                        210\n"
          ]
        }
      ]
    },
    {
      "cell_type": "code",
      "source": [
        "import pandas as pd\n",
        "\n",
        "\n",
        "data = {\n",
        "    \"Name\": [\"John Doe\", \"Alice Smith\", \"Bob Johnson\", \"Emma Brown\", \"David Lee\"],\n",
        "    \"Age\": [45, 52, 37, 60, 55],\n",
        "    \"BMI\": [27.5, 30.2, 22.8, 33.1, 25.6]\n",
        "}\n",
        "\n",
        "\n",
        "patient_df = pd.DataFrame(data)\n",
        "\n",
        "\n",
        "sorted_patients = patient_df.sort_values(by=\"BMI\", ascending=False)\n",
        "\n",
        "\n",
        "print(\"Patients Sorted by BMI (Highest to Lowest):\")\n",
        "print(sorted_patients)"
      ],
      "metadata": {
        "colab": {
          "base_uri": "https://localhost:8080/"
        },
        "id": "aujHdRDkPX__",
        "outputId": "5895eaf2-5f7f-4190-afb1-a3e35e98fbcf"
      },
      "execution_count": null,
      "outputs": [
        {
          "output_type": "stream",
          "name": "stdout",
          "text": [
            "Patients Sorted by BMI (Highest to Lowest):\n",
            "          Name  Age   BMI\n",
            "3   Emma Brown   60  33.1\n",
            "1  Alice Smith   52  30.2\n",
            "0     John Doe   45  27.5\n",
            "4    David Lee   55  25.6\n",
            "2  Bob Johnson   37  22.8\n"
          ]
        }
      ]
    },
    {
      "cell_type": "code",
      "source": [
        "import pandas as pd\n",
        "\n",
        "data = {\n",
        "    \"Name\": [\"John Doe\", \"Alice Smith\", \"Bob Johnson\", \"Emma Brown\", \"David Lee\"],\n",
        "    \"Age\": [45, 52, 37, 60, 55],\n",
        "    \"BMI\": [27.5, 30.2, 22.8, 33.1, 25.6],\n",
        "    \"Cholesterol Level (mg/dL)\": [190, 220, 175, 240, 210]\n",
        "}\n",
        "\n",
        "\n",
        "patient_df = pd.DataFrame(data)\n",
        "\n",
        "\n",
        "def classify_risk(bmi, cholesterol):\n",
        "    if bmi >= 30 or cholesterol > 220:\n",
        "        return \"High\"\n",
        "    elif bmi >= 25 or cholesterol > 200:\n",
        "        return \"Medium\"\n",
        "    else:\n",
        "        return \"Low\"\n",
        "\n",
        "\n",
        "patient_df[\"Risk Level\"] = patient_df.apply(lambda row: classify_risk(row[\"BMI\"], row[\"Cholesterol Level (mg/dL)\"]), axis=1)\n",
        "\n",
        "\n",
        "print(\"Patients with Risk Level Classification:\")\n",
        "print(patient_df)"
      ],
      "metadata": {
        "colab": {
          "base_uri": "https://localhost:8080/"
        },
        "id": "ysF7N5gOPoLA",
        "outputId": "ab6e5302-9d21-4595-c3d9-6691f2134425"
      },
      "execution_count": null,
      "outputs": [
        {
          "output_type": "stream",
          "name": "stdout",
          "text": [
            "Patients with Risk Level Classification:\n",
            "          Name  Age   BMI  Cholesterol Level (mg/dL) Risk Level\n",
            "0     John Doe   45  27.5                        190     Medium\n",
            "1  Alice Smith   52  30.2                        220       High\n",
            "2  Bob Johnson   37  22.8                        175        Low\n",
            "3   Emma Brown   60  33.1                        240       High\n",
            "4    David Lee   55  25.6                        210     Medium\n"
          ]
        }
      ]
    },
    {
      "cell_type": "code",
      "source": [
        "import pandas as pd\n",
        "from google.colab import files\n",
        "\n",
        "patient_df.to_csv(\"cleaned_patient_data.csv\", index=False)\n",
        "files.download(\"cleaned_patient_data.csv\") # Call the download function with the file name"
      ],
      "metadata": {
        "colab": {
          "base_uri": "https://localhost:8080/",
          "height": 17
        },
        "id": "iwttX5T0P7QZ",
        "outputId": "eac6f939-ebe7-45d3-cdd9-f2e883c38fbd"
      },
      "execution_count": null,
      "outputs": [
        {
          "output_type": "display_data",
          "data": {
            "text/plain": [
              "<IPython.core.display.Javascript object>"
            ],
            "application/javascript": [
              "\n",
              "    async function download(id, filename, size) {\n",
              "      if (!google.colab.kernel.accessAllowed) {\n",
              "        return;\n",
              "      }\n",
              "      const div = document.createElement('div');\n",
              "      const label = document.createElement('label');\n",
              "      label.textContent = `Downloading \"${filename}\": `;\n",
              "      div.appendChild(label);\n",
              "      const progress = document.createElement('progress');\n",
              "      progress.max = size;\n",
              "      div.appendChild(progress);\n",
              "      document.body.appendChild(div);\n",
              "\n",
              "      const buffers = [];\n",
              "      let downloaded = 0;\n",
              "\n",
              "      const channel = await google.colab.kernel.comms.open(id);\n",
              "      // Send a message to notify the kernel that we're ready.\n",
              "      channel.send({})\n",
              "\n",
              "      for await (const message of channel.messages) {\n",
              "        // Send a message to notify the kernel that we're ready.\n",
              "        channel.send({})\n",
              "        if (message.buffers) {\n",
              "          for (const buffer of message.buffers) {\n",
              "            buffers.push(buffer);\n",
              "            downloaded += buffer.byteLength;\n",
              "            progress.value = downloaded;\n",
              "          }\n",
              "        }\n",
              "      }\n",
              "      const blob = new Blob(buffers, {type: 'application/binary'});\n",
              "      const a = document.createElement('a');\n",
              "      a.href = window.URL.createObjectURL(blob);\n",
              "      a.download = filename;\n",
              "      div.appendChild(a);\n",
              "      a.click();\n",
              "      div.remove();\n",
              "    }\n",
              "  "
            ]
          },
          "metadata": {}
        },
        {
          "output_type": "display_data",
          "data": {
            "text/plain": [
              "<IPython.core.display.Javascript object>"
            ],
            "application/javascript": [
              "download(\"download_f4f24888-0c40-4798-888b-789691659e2f\", \"cleaned_patient_data.csv\", 192)"
            ]
          },
          "metadata": {}
        }
      ]
    }
  ]
}